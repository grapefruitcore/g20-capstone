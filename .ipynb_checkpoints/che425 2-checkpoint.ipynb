{
 "cells": [
  {
   "cell_type": "code",
   "execution_count": 1,
   "id": "b370c5c9",
   "metadata": {},
   "outputs": [
    {
     "name": "stdout",
     "output_type": "stream",
     "text": [
      "5.6883142857143\n",
      "8.900992857142871\n",
      "F-statistic: 0.6390651444180793\n",
      "p-value: 0.2845655174712992\n",
      "The variances are equal.\n"
     ]
    }
   ],
   "source": [
    "import numpy as np\n",
    "from scipy.stats import f\n",
    "\n",
    "A = np.array([91.5, 94.18, 92.18, 95.39, 91.79, 89.07, 94.72, 89.21])\n",
    "B = np.array([89.19, 90.95, 90.46, 93.21, 97.19, 97.04, 91.07, 92.75])\n",
    "\n",
    "# Calculate the variances\n",
    "var_A = np.var(A, ddof=1)\n",
    "print(var_A)\n",
    "var_B = np.var(B, ddof=1)\n",
    "print(var_B)\n",
    "\n",
    "# Calculate the F statistic\n",
    "F = var_A / var_B\n",
    "\n",
    "# Calculate the degrees of freedom for each sample\n",
    "df1 = len(A) - 1\n",
    "df2 = len(B) - 1\n",
    "\n",
    "# Calculate the p-value\n",
    "p_value = f.cdf(F, df1, df2)\n",
    "\n",
    "# Print the results\n",
    "print(f'F-statistic: {F}')\n",
    "print(f'p-value: {p_value}')\n",
    "\n",
    "# Compare the p-value to our significance level\n",
    "alpha = 0.05\n",
    "if p_value > alpha:\n",
    "    print('The variances are equal.')\n",
    "else:\n",
    "    print('The variances are not equal.')\n"
   ]
  },
  {
   "cell_type": "code",
   "execution_count": 3,
   "id": "1c16c198",
   "metadata": {},
   "outputs": [
    {
     "name": "stdout",
     "output_type": "stream",
     "text": [
      "Difference between means: -0.47749999999999204\n",
      "t-statistic: -0.35359086434617987\n",
      "p-value: 0.7289136186068217\n",
      "The difference between the means is not statistically significant.\n"
     ]
    }
   ],
   "source": [
    "from scipy import stats\n",
    "# Calculate the means\n",
    "mean_A = np.mean(A)\n",
    "mean_B = np.mean(B)\n",
    "\n",
    "# Calculate the difference between the means\n",
    "diff = mean_A - mean_B\n",
    "\n",
    "# Perform a t-test\n",
    "t_statistic, p_value = stats.ttest_ind(A, B, equal_var=True)\n",
    "\n",
    "# Print the results\n",
    "print(f'Difference between means: {diff}')\n",
    "print(f't-statistic: {t_statistic}')\n",
    "print(f'p-value: {p_value}')\n",
    "\n",
    "# Compare the p-value to our significance level\n",
    "alpha = 0.05\n",
    "if p_value > alpha:\n",
    "    print('The difference between the means is not statistically significant.')\n",
    "else:\n",
    "    print('The difference between the means is statistically significant.')"
   ]
  },
  {
   "cell_type": "code",
   "execution_count": 13,
   "id": "c6935ba1",
   "metadata": {},
   "outputs": [
    {
     "name": "stdout",
     "output_type": "stream",
     "text": [
      "Coefficients:\n",
      "B1 = 22.434552660783144\n",
      "B2 = 1.7165941221800218\n",
      "B3 = -0.07190983057818466\n"
     ]
    }
   ],
   "source": [
    "import numpy as np\n",
    "from scipy.optimize import curve_fit\n",
    "\n",
    "# Check with library:\n",
    "def second_order_model(x, B1, B2, B3):\n",
    "    return B1 + B2*x + B3*x**2\n",
    "\n",
    "# Given data\n",
    "x_data = np.array([0, 0, 0, 1, 2, 2, 3, 3, 4, 4, 5, 6, 6, 6, 7, 8, 8, 9, 10])\n",
    "y_data = np.array([22.1, 21.9, 22.3, 24.5, 26.0, 26.1, 26.8, 27.3, 28.2, 28.5, 28.9, 30.0, 30.3, 29.8, 30.4, 31.4, 31.5, 31.8, 33.1])\n",
    "\n",
    "# Fitting the model to the data\n",
    "popt, pcov = curve_fit(second_order_model, x_data, y_data)\n",
    "\n",
    "# Extracting the coefficients\n",
    "B1, B2, B3 = popt\n",
    "\n",
    "print(\"Coefficients:\")\n",
    "print(\"B1 =\", B1)\n",
    "print(\"B2 =\", B2)\n",
    "print(\"B3 =\", B3)\n"
   ]
  },
  {
   "cell_type": "code",
   "execution_count": 17,
   "id": "54353709",
   "metadata": {},
   "outputs": [
    {
     "name": "stdout",
     "output_type": "stream",
     "text": [
      "X:  [[  1   0   0]\n",
      " [  1   0   0]\n",
      " [  1   0   0]\n",
      " [  1   1   1]\n",
      " [  1   2   4]\n",
      " [  1   2   4]\n",
      " [  1   3   9]\n",
      " [  1   3   9]\n",
      " [  1   4  16]\n",
      " [  1   4  16]\n",
      " [  1   5  25]\n",
      " [  1   6  36]\n",
      " [  1   6  36]\n",
      " [  1   6  36]\n",
      " [  1   7  49]\n",
      " [  1   8  64]\n",
      " [  1   8  64]\n",
      " [  1   9  81]\n",
      " [  1  10 100]]\n",
      "Y:  [[22.1]\n",
      " [21.9]\n",
      " [22.3]\n",
      " [24.5]\n",
      " [26. ]\n",
      " [26.1]\n",
      " [26.8]\n",
      " [27.3]\n",
      " [28.2]\n",
      " [28.5]\n",
      " [28.9]\n",
      " [30. ]\n",
      " [30.3]\n",
      " [29.8]\n",
      " [30.4]\n",
      " [31.4]\n",
      " [31.5]\n",
      " [31.8]\n",
      " [33.1]]\n",
      "Xt:  [[  1   1   1   1   1   1   1   1   1   1   1   1   1   1   1   1   1   1\n",
      "    1]\n",
      " [  0   0   0   1   2   2   3   3   4   4   5   6   6   6   7   8   8   9\n",
      "   10]\n",
      " [  0   0   0   1   4   4   9   9  16  16  25  36  36  36  49  64  64  81\n",
      "  100]]\n",
      "XtX:  [[   19    84   550]\n",
      " [   84   550  4068]\n",
      " [  550  4068 32374]]\n",
      "XtXinv:  [[ 0.25335591 -0.09714735  0.00790294]\n",
      " [-0.09714735  0.06300381 -0.0062664 ]\n",
      " [ 0.00790294 -0.0062664   0.00068404]]\n",
      "XtY:  [[  530.9]\n",
      " [ 2536.1]\n",
      " [16994.1]]\n",
      "B:  [[22.43455267]\n",
      " [ 1.71659411]\n",
      " [-0.07190983]]\n",
      "Coefficients:\n",
      "B1: 22.434552673478926\n",
      "B2: 1.7165941108893896\n",
      "B3: -0.07190982929237844\n"
     ]
    },
    {
     "data": {
      "image/png": "[encoded data removed]",
      "text/plain": [
       "<Figure size 640x480 with 1 Axes>"
      ]
     },
     "metadata": {},
     "output_type": "display_data"
    }
   ],
   "source": [
    "import numpy as np\n",
    "import matplotlib.pyplot as plt\n",
    "\n",
    "# Given data\n",
    "x_data = np.array([0, 0, 0, 1, 2, 2, 3, 3, 4, 4, 5, 6, 6, 6, 7, 8, 8, 9, 10])\n",
    "y_data = np.array([22.1, 21.9, 22.3, 24.5, 26.0, 26.1, 26.8, 27.3, 28.2, 28.5, 28.9, 30, 30.3, 29.8, 30.4, 31.4, 31.5, 31.8, 33.1])\n",
    "\n",
    "# Formulate matrices X and Y\n",
    "X = np.column_stack([np.ones_like(x_data), x_data, x_data**2])\n",
    "Y = y_data.reshape(-1, 1)\n",
    "print(\"X: \", X)\n",
    "print(\"Y: \", Y)\n",
    "\n",
    "# Calculate coefficients\n",
    "X_transpose = np.transpose(X)\n",
    "XtX = np.dot(X_transpose, X)\n",
    "XtX_inv = np.linalg.inv(np.dot(X_transpose, X))\n",
    "B = np.dot(np.dot(XtX_inv, X_transpose), Y)\n",
    "XtY =  np.dot(X_transpose, Y)\n",
    "\n",
    "print(\"Xt: \", X_transpose)\n",
    "print(\"XtX: \", XtX)\n",
    "print(\"XtXinv: \", XtX_inv)\n",
    "print(\"XtY: \", XtY)\n",
    "print(\"B: \", B)\n",
    "\n",
    "# Extract coefficients\n",
    "B1, B2, B3 = B.flatten()\n",
    "\n",
    "# Print coefficients\n",
    "print(\"Coefficients:\")\n",
    "print(\"B1:\", B1)\n",
    "print(\"B2:\", B2)\n",
    "print(\"B3:\", B3)\n",
    "\n",
    "# Generate fitted curve\n",
    "x_fit = np.linspace(0, 10, 100)\n",
    "y_fit = B1 + B2 * x_fit + B3 * x_fit**2\n",
    "\n",
    "# Plot original data and fitted curve\n",
    "plt.scatter(x_data, y_data, label='Original Data')\n",
    "plt.plot(x_fit, y_fit, color='red', label='Fitted Curve')\n",
    "plt.xlabel('x')\n",
    "plt.ylabel('y')\n",
    "plt.title('Second-Order Model Fitting')\n",
    "plt.legend()\n",
    "plt.grid(True)\n",
    "plt.show()\n"
   ]
  },
  {
   "cell_type": "code",
   "execution_count": 18,
   "id": "6aa18f03",
   "metadata": {},
   "outputs": [
    {
     "name": "stdout",
     "output_type": "stream",
     "text": [
      "ANOVA Table:\n",
      "Source\t\t\tDF\tSS\t\tMS\t\tF\t\t\t\tP-value\n",
      "Regression\t\t2\t207.4518\t103.7259\t681.7091\t0.0000000000\n",
      "Residual\t\t16\t2.4345\t0.1522\n",
      "Total\t\t\t18\t209.8863\n"
     ]
    }
   ],
   "source": [
    "# Total Sum of Squares (SST)\n",
    "mean_y = np.mean(y_data)\n",
    "SST = np.sum((y_data - mean_y)**2)\n",
    "\n",
    "# Regression Sum of Squares (SSR)\n",
    "y_pred = B1 + B2 * x_data + B3 * x_data**2\n",
    "SSR = np.sum((y_pred - mean_y)**2)\n",
    "\n",
    "# Residual Sum of Squares (SSE)\n",
    "SSE = np.sum((y_data - y_pred)**2)\n",
    "\n",
    "# Degrees of Freedom (DF)\n",
    "n = len(y_data)\n",
    "p = 3  # number of parameters in the model (including intercept)\n",
    "DF_regression = p - 1\n",
    "DF_residual = n - p\n",
    "DF_total = n - 1\n",
    "\n",
    "# Mean Squares (MS)\n",
    "MSR = SSR / DF_regression\n",
    "MSE = SSE / DF_residual\n",
    "\n",
    "# F-statistic\n",
    "F_statistic = MSR / MSE\n",
    "\n",
    "# p-value\n",
    "from scipy.stats import f\n",
    "\n",
    "p_value = 1 - f.cdf(F_statistic, DF_regression, DF_residual)\n",
    "\n",
    "# ANOVA Table\n",
    "print(\"ANOVA Table:\")\n",
    "print(\"Source\\t\\t\\tDF\\tSS\\t\\tMS\\t\\tF\\t\\t\\t\\tP-value\")\n",
    "print(\"Regression\\t\\t{}\\t{:.4f}\\t{:.4f}\\t{:.4f}\\t{:.10f}\".format(DF_regression, SSR, MSR, F_statistic, p_value))\n",
    "print(\"Residual\\t\\t{}\\t{:.4f}\\t{:.4f}\".format(DF_residual, SSE, MSE))\n",
    "print(\"Total\\t\\t\\t{}\\t{:.4f}\".format(DF_total, SST))\n"
   ]
  },
  {
   "cell_type": "code",
   "execution_count": 19,
   "id": "473ff6c2",
   "metadata": {},
   "outputs": [
    {
     "name": "stdout",
     "output_type": "stream",
     "text": [
      "209.88631578947366\n",
      "2.434491001068201\n",
      "207.45182478840064\n"
     ]
    }
   ],
   "source": [
    "print(SST)\n",
    "print(SSE)\n",
    "print(SSR)"
   ]
  },
  {
   "cell_type": "code",
   "execution_count": 20,
   "id": "c4576a7d",
   "metadata": {},
   "outputs": [
    {
     "name": "stdout",
     "output_type": "stream",
     "text": [
      "3.63372346759163\n",
      "The overall regression is significant (Reject H0)\n"
     ]
    }
   ],
   "source": [
    "# Critical F-value\n",
    "alpha = 0.05\n",
    "critical_F = f.ppf(1 - alpha, DF_regression, DF_residual)\n",
    "print(critical_F)\n",
    "\n",
    "# Check if F-statistic is greater than critical F-value\n",
    "if F_statistic > critical_F:\n",
    "    print(\"The overall regression is significant (Reject H0)\")\n",
    "else:\n",
    "    print(\"The overall regression is not significant (Fail to reject H0)\")\n"
   ]
  },
  {
   "cell_type": "code",
   "execution_count": 22,
   "id": "8ce22fd6",
   "metadata": {},
   "outputs": [
    {
     "name": "stdout",
     "output_type": "stream",
     "text": [
      "The second-order term is not significant (Fail to reject H0)\n"
     ]
    }
   ],
   "source": [
    "# Reduced model without the second-order term\n",
    "X_reduced = X[:, :2]  # Exclude the second-order term\n",
    "B_reduced = np.dot(np.dot(np.linalg.inv(np.dot(X_reduced.T, X_reduced)), X_reduced.T), Y)\n",
    "y_pred_reduced = np.dot(X_reduced, B_reduced)\n",
    "SSE_reduced = np.sum((Y - y_pred_reduced)**2)\n",
    "\n",
    "# Full model with the second-order term\n",
    "y_pred_full = np.dot(X, B)\n",
    "\n",
    "# Reduction in SSR\n",
    "SSR_reduced = SST - SSE_reduced\n",
    "reduction_in_SSR = SSR_reduced - SSR\n",
    "\n",
    "# Degrees of freedom for the reduced model\n",
    "DF_reduced_residual = n - (p - 1)\n",
    "\n",
    "# F-statistic for the significance of the second-order term\n",
    "F_statistic_second_order = (reduction_in_SSR / (p - 1)) / (SSE / DF_residual)\n",
    "\n",
    "# Critical F-value for the test\n",
    "critical_F_second_order = f.ppf(1 - alpha, p - 1, DF_residual)\n",
    "\n",
    "# Check significance\n",
    "if F_statistic_second_order > critical_F_second_order:\n",
    "    print(\"The second-order term is significant (Reject H0)\")\n",
    "else:\n",
    "    print(\"The second-order term is not significant (Fail to reject H0)\")\n"
   ]
  },
  {
   "cell_type": "code",
   "execution_count": 23,
   "id": "1b4b104c",
   "metadata": {},
   "outputs": [
    {
     "name": "stdout",
     "output_type": "stream",
     "text": [
      "Parameters (B): [ 6.30666667  0.85       -0.50833333]\n"
     ]
    },
    {
     "data": {
      "image/png": "[encoded data removed]",
      "text/plain": [
       "<Figure size 640x480 with 1 Axes>"
      ]
     },
     "metadata": {},
     "output_type": "display_data"
    }
   ],
   "source": [
    "import numpy as np\n",
    "\n",
    "# Given data\n",
    "data = np.array([\n",
    "    [5.95, 3, 30, -1, -1],\n",
    "    [5.60, 3, 60, -1, 0],\n",
    "    [5.44, 3, 90, -1, 1],\n",
    "    [6.22, 9, 30, 0, -1],\n",
    "    [5.85, 9, 60, 0, 0],\n",
    "    [5.61, 9, 90, 0, 1],\n",
    "    [8.36, 15, 30, 1, -1],\n",
    "    [7.30, 15, 60, 1, 0],\n",
    "    [6.43, 15, 90, 1, 1]\n",
    "])\n",
    "\n",
    "X = data[:, 3:5]\n",
    "Y = data[:, 0]\n",
    "\n",
    "# Adding a column of ones to X for the intercept term\n",
    "X = np.hstack((np.ones((X.shape[0], 1)), X))\n",
    "\n",
    "# Calculating parameters B\n",
    "XtX_inv = np.linalg.inv(np.dot(X.T, X))\n",
    "XtY = np.dot(X.T, Y)\n",
    "B = np.dot(XtX_inv, XtY)\n",
    "\n",
    "print(\"Parameters (B):\", B)\n",
    "\n",
    "# Compute predicted values\n",
    "Y_pred = np.dot(X, B)\n",
    "\n",
    "# Compute residuals\n",
    "residuals = Y - Y_pred\n",
    "\n",
    "import matplotlib.pyplot as plt\n",
    "\n",
    "# Plot residuals vs Y_hat\n",
    "plt.scatter(Y_pred, residuals)\n",
    "plt.axhline(y=0, color='r', linestyle='-')  # Add horizontal line at y=0\n",
    "plt.xlabel('Predicted Y (Y_hat)')\n",
    "plt.ylabel('Residuals')\n",
    "plt.title('Residual Plot')\n",
    "plt.show()\n"
   ]
  },
  {
   "cell_type": "code",
   "execution_count": 25,
   "id": "cf7351e6",
   "metadata": {},
   "outputs": [
    {
     "name": "stdout",
     "output_type": "stream",
     "text": [
      "Parameters for Model B (B): [ 5.83666667  0.85       -0.50833333  0.62        0.085      -0.355     ]\n"
     ]
    }
   ],
   "source": [
    "# Define X with additional quadratic and interaction terms\n",
    "X_B = np.column_stack((X, X[:, 1] ** 2, X[:, 2] ** 2, X[:, 1] * X[:, 2]))\n",
    "\n",
    "# Calculating parameters B for Model B\n",
    "XtX_inv_B = np.linalg.inv(np.dot(X_B.T, X_B))\n",
    "XtY_B = np.dot(X_B.T, Y)\n",
    "B_B = np.dot(XtX_inv_B, XtY_B)\n",
    "\n",
    "print(\"Parameters for Model B (B):\", B_B)\n"
   ]
  },
  {
   "cell_type": "code",
   "execution_count": 26,
   "id": "0c1d69eb",
   "metadata": {},
   "outputs": [
    {
     "name": "stdout",
     "output_type": "stream",
     "text": [
      "t-statistics for Model B: [38.44973967 10.22319891 -6.11387386  4.30525567  0.59023666 -3.48618643]\n",
      "p-values for Model B: [3.87020525e-05 1.99503120e-03 8.79426299e-03 2.30651308e-02\n",
      " 5.96542643e-01 3.98765107e-02]\n"
     ]
    }
   ],
   "source": [
    "# Calculate residuals\n",
    "Y_pred_B = np.dot(X_B, B_B)\n",
    "residuals_B = Y - Y_pred_B\n",
    "\n",
    "# Calculate residuals degrees of freedom\n",
    "n = len(Y)\n",
    "p_B = len(B_B)\n",
    "df_resid_B = n - p_B\n",
    "\n",
    "# Calculate residual standard error\n",
    "residual_std_error_B = np.sqrt(np.sum(residuals_B ** 2) / df_resid_B)\n",
    "\n",
    "# Calculate standard errors of parameter estimates\n",
    "param_std_errors_B = np.sqrt(np.diag(XtX_inv_B)) * residual_std_error_B\n",
    "\n",
    "# Calculate t-statistics\n",
    "t_stats_B = B_B / param_std_errors_B\n",
    "\n",
    "# Calculate two-tailed p-values\n",
    "p_values_B = 2 * (1 - stats.t.cdf(np.abs(t_stats_B), df_resid_B))\n",
    "\n",
    "# Display t-statistics and p-values for each parameter\n",
    "print(\"t-statistics for Model B:\", t_stats_B)\n",
    "print(\"p-values for Model B:\", p_values_B)\n"
   ]
  },
  {
   "cell_type": "code",
   "execution_count": 28,
   "id": "4895b2e0",
   "metadata": {},
   "outputs": [
    {
     "data": {
      "image/png": "[encoded data removed]",
      "text/plain": [
       "<Figure size 640x480 with 1 Axes>"
      ]
     },
     "metadata": {},
     "output_type": "display_data"
    }
   ],
   "source": [
    "# Redefine X without the X2 squared term\n",
    "X_B_simplified = X_B[:, [0, 1, 2, 3, 5]]  # Dropping the 4th column (X2 squared)\n",
    "\n",
    "# Re-calculate parameters for the simplified model\n",
    "XtX_inv_B_simplified = np.linalg.inv(np.dot(X_B_simplified.T, X_B_simplified))\n",
    "XtY_B_simplified = np.dot(X_B_simplified.T, Y)\n",
    "B_B_simplified = np.dot(XtX_inv_B_simplified, XtY_B_simplified)\n",
    "\n",
    "# Calculate predicted values and residuals\n",
    "Y_pred_B_simplified = np.dot(X_B_simplified, B_B_simplified)\n",
    "residuals_B_simplified = Y - Y_pred_B_simplified\n",
    "\n",
    "# Plot residuals vs Y_hat for the simplified model\n",
    "plt.scatter(Y_pred_B_simplified, residuals_B_simplified)\n",
    "plt.axhline(y=0, color='r', linestyle='-')  # Add horizontal line at y=0\n",
    "plt.xlabel('Predicted Y (Y_hat)')\n",
    "plt.ylabel('Residuals')\n",
    "plt.title('Residual Plot for Simplified Model (Model B)')\n",
    "plt.show()"
   ]
  },
  {
   "cell_type": "code",
   "execution_count": 30,
   "id": "eea047c6",
   "metadata": {},
   "outputs": [
    {
     "name": "stdout",
     "output_type": "stream",
     "text": [
      "ANOVA Table:\n",
      "=======================================\n",
      "Source    |  DF  |     SS      |    MS     | F-value  |   p-value\n",
      "--------------------------------------------------------------\n",
      "Regression|  4 | 7.158316666666663 | 1.7895791666666658 | 51.541941677667 | 0.0010729100484867526\n",
      "Residual  |  4 | 0.13888333333333355 | 0.03472083333333339\n",
      "Total     |  8 | 7.2971999999999975\n",
      "=======================================\n",
      "Estimate of the variance of the error affecting the Y data: 0.03472083333333339\n"
     ]
    }
   ],
   "source": [
    "# Calculate total sum of squares (SST)\n",
    "SST = np.sum((Y - np.mean(Y)) ** 2)\n",
    "\n",
    "# Calculate regression sum of squares (SSR)\n",
    "SSR = np.sum((Y_pred_B_simplified - np.mean(Y)) ** 2)\n",
    "\n",
    "# Calculate residual sum of squares (SSE)\n",
    "SSE = np.sum(residuals_B_simplified ** 2)\n",
    "\n",
    "# Calculate degrees of freedom\n",
    "DF_reg = X_B_simplified.shape[1] - 1  # Number of parameters (excluding intercept)\n",
    "DF_resid = len(Y) - (X_B_simplified.shape[1])  # Total number of observations - number of parameters\n",
    "DF_total = len(Y) - 1  # Total number of observations - 1\n",
    "\n",
    "# Calculate mean squares\n",
    "MS_reg = SSR / DF_reg\n",
    "MS_resid = SSE / DF_resid\n",
    "\n",
    "# Calculate F-statistic\n",
    "F_statistic = MS_reg / MS_resid\n",
    "\n",
    "# Calculate p-value\n",
    "p_value = 1 - stats.f.cdf(F_statistic, DF_reg, DF_resid)\n",
    "\n",
    "# Display ANOVA table\n",
    "print(\"ANOVA Table:\")\n",
    "print(\"=======================================\")\n",
    "print(\"Source    |  DF  |     SS      |    MS     | F-value  |   p-value\")\n",
    "print(\"--------------------------------------------------------------\")\n",
    "print(\"Regression| \", DF_reg, \"|\", SSR, \"|\", MS_reg, \"|\", F_statistic, \"|\", p_value)\n",
    "print(\"Residual  | \", DF_resid, \"|\", SSE, \"|\", MS_resid)\n",
    "print(\"Total     | \", DF_total, \"|\", SST)\n",
    "print(\"=======================================\")\n",
    "\n",
    "# Calculate estimate of variance of the error affecting the Y data\n",
    "variance_error_Y = MS_resid\n",
    "print(\"Estimate of the variance of the error affecting the Y data:\", variance_error_Y)\n"
   ]
  },
  {
   "cell_type": "code",
   "execution_count": 31,
   "id": "2f5cc0e5",
   "metadata": {},
   "outputs": [
    {
     "name": "stdout",
     "output_type": "stream",
     "text": [
      "Parameter Variance-Covariance Matrix:\n",
      "[[ 0.01382593  0.          0.         -0.01382593  0.        ]\n",
      " [ 0.          0.00691296  0.          0.          0.        ]\n",
      " [ 0.          0.          0.00691296  0.          0.        ]\n",
      " [-0.01382593  0.          0.          0.02073889  0.        ]\n",
      " [ 0.          0.          0.          0.          0.01036944]]\n",
      "\n",
      "Parameter Correlation Matrix:\n",
      "[[ 1.          0.          0.         -0.81649658  0.        ]\n",
      " [ 0.          1.          0.          0.          0.        ]\n",
      " [ 0.          0.          1.          0.          0.        ]\n",
      " [-0.81649658  0.          0.          1.          0.        ]\n",
      " [ 0.          0.          0.          0.          1.        ]]\n"
     ]
    }
   ],
   "source": [
    "# Calculate parameter variance-covariance matrix\n",
    "parameter_covariance_matrix = XtX_inv_B_simplified * residual_std_error_B**2\n",
    "\n",
    "# Calculate parameter correlation matrix\n",
    "parameter_correlation_matrix = parameter_covariance_matrix / np.sqrt(np.outer(np.diag(parameter_covariance_matrix), np.diag(parameter_covariance_matrix)))\n",
    "\n",
    "print(\"Parameter Variance-Covariance Matrix:\")\n",
    "print(parameter_covariance_matrix)\n",
    "\n",
    "print(\"\\nParameter Correlation Matrix:\")\n",
    "print(parameter_correlation_matrix)\n"
   ]
  },
  {
   "cell_type": "code",
   "execution_count": null,
   "id": "0b757edc",
   "metadata": {},
   "outputs": [],
   "source": []
  }
 ],
 "metadata": {
  "kernelspec": {
   "display_name": "Python 3 (ipykernel)",
   "language": "python",
   "name": "python3"
  },
  "language_info": {
   "codemirror_mode": {
    "name": "ipython",
    "version": 3
   },
   "file_extension": ".py",
   "mimetype": "text/x-python",
   "name": "python",
   "nbconvert_exporter": "python",
   "pygments_lexer": "ipython3",
   "version": "3.11.5"
  }
 },
 "nbformat": 4,
 "nbformat_minor": 5
}
