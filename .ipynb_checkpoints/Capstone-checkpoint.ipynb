{
 "cells": [
  {
   "cell_type": "code",
   "execution_count": 202,
   "id": "0deb1a49",
   "metadata": {},
   "outputs": [],
   "source": [
    "import numpy as np\n",
    "from scipy.optimize import brute\n",
    "import csv\n",
    "import random\n",
    "import matplotlib.pyplot as plt\n",
    "import copy\n",
    "import math"
   ]
  },
  {
   "cell_type": "code",
   "execution_count": 197,
   "id": "d0bdc2cf",
   "metadata": {},
   "outputs": [],
   "source": [
    "parkingLotSize = 173\n",
    "installCost = 1000\n",
    "rebatePercent = 0.5 #Assuming that we will get % of all rebates applied for\n",
    "marketPrice = 2.50 #Average cost of EV charging in Vancouver per hour\n",
    "hydroPrice = 0.0981 #Dollars per kWhour https://app.bchydro.com/accounts-billing/rates-energy-use/electricity-rates/business-rates.html\n",
    "markup = 0.15 #Dollars per kWhour\n",
    "weeks = 522 #10 years\n",
    "batteryEnergy = 57 #kWh, small SUV, BEV200, 2015\n",
    "batteryPower = 157 #kW, small SUV, BEV200, 2015"
   ]
  },
  {
   "cell_type": "code",
   "execution_count": 78,
   "id": "46c71a9f",
   "metadata": {},
   "outputs": [],
   "source": [
    "# Open the CSV file\n",
    "csv_file = open('time_demand.csv', 'r')\n",
    "csv_file2 = open('vehicle_registration_2022.csv', 'r')\n",
    "csv_file3 = open('rebates.csv', 'r')\n",
    "\n",
    "# Create a csv.reader object\n",
    "csv_reader = csv.reader(csv_file)\n",
    "csv_reader2 = csv.reader(csv_file2)\n",
    "csv_reader3 = csv.reader(csv_file3)\n",
    "\n",
    "# Initialize an empty array to store the CSV data\n",
    "data_array = []\n",
    "data_array2 = []\n",
    "data_array3 = []\n",
    "\n",
    "# Read and store data row by row\n",
    "for row in csv_reader:\n",
    "    data_array.append(row)\n",
    "for row in csv_reader2:\n",
    "    data_array2.append(row)\n",
    "for row in csv_reader3:\n",
    "    data_array3.append(row)\n",
    "\n",
    "# Close the CSV file\n",
    "csv_file.close()\n",
    "csv_file2.close()\n",
    "csv_file3.close()\n",
    "\n",
    "demandHourly = [item for sublist in [row[1:] for row in data_array[1:-1]] for item in sublist]\n",
    "vehicleRegistration2022 = data_array2\n",
    "rebates = data_array3"
   ]
  },
  {
   "cell_type": "code",
   "execution_count": 79,
   "id": "1ea5e7c7",
   "metadata": {},
   "outputs": [
    {
     "data": {
      "text/plain": [
       "0.03045657988467897"
      ]
     },
     "execution_count": 79,
     "metadata": {},
     "output_type": "execute_result"
    }
   ],
   "source": [
    "#Need a script that calculates percent of vehicles in area that are EVs based on vehicle registration data\n",
    "#Defines variable percentEV\n",
    "\n",
    "# Specify the column index you want to analyze\n",
    "column_index = 3  # 3 corresponds to EV included\n",
    "target_text = \"Yes\"\n",
    "count_matches = 0\n",
    "\n",
    "# Iterate through the rows and check for matches\n",
    "for row in vehicleRegistration2022[1:]:  # Skip the header row\n",
    "    if row[column_index] == target_text:\n",
    "        count_matches += 1\n",
    "\n",
    "# Calculate the percentage\n",
    "total_rows = len(vehicleRegistration2022) - 1  # Subtract 1 to exclude the header row\n",
    "percentEV = count_matches / total_rows\n",
    "percentEV"
   ]
  },
  {
   "cell_type": "code",
   "execution_count": 102,
   "id": "7cd403ce",
   "metadata": {},
   "outputs": [],
   "source": [
    "def chargingDemand(demandHourly,percentEV,chargerCount,parkingLotSize):\n",
    "    #Takes inputs: array demandHourly which is 13 (hours per day) by 7 (days per week), float percentEV, float chargingProbability\n",
    "    #Returns total number of charging instances per week weeklyChargeCount\n",
    "    \n",
    "    chargerCount = round(chargerCount)\n",
    "    weeklyChargeCount = 0\n",
    "    randomCarArray = []\n",
    "    chargers = [[False,\"\",\"\"]]*chargerCount\n",
    "    chargersFilled = [chargers]\n",
    "    falses = []\n",
    "    chargersOccupied = 0\n",
    "    for i in demandHourly:\n",
    "        \n",
    "        parkingSpots = [False,\"\",\"\"]*(173 - chargerCount)\n",
    "        chargers = sorted(chargers, key=lambda x: not x[0])\n",
    "        \n",
    "        #Cars leaving/staying at chargers:\n",
    "        for k, car in enumerate(chargers):\n",
    "            if car[0] and car[2] >= 100:\n",
    "                chargers[k] = [False,\"\",\"\"]\n",
    "                chargersOccupied -= 1\n",
    "            #ASSUMING CAR CHARGES TO 100%\n",
    "            elif car[0] and car[2] < 100:\n",
    "                #car will charge (ASSUMING 20% PER HOUR - CORRECT LATER)\n",
    "                chargers[k][2] += 20\n",
    "                \n",
    "        #Sort chargers so filled comes first\n",
    "        chargers = sorted(chargers, key=lambda x: not x[0])\n",
    "                \n",
    "        for j, car in enumerate(parkingSpots):\n",
    "            randomCar = generateCar(float(i),percentEV)\n",
    "            randomCarArray.append(randomCar)\n",
    "            #if random car is EV that wants to charge:\n",
    "            if randomCar[1] and randomCar[2] < 40 and chargersOccupied < chargerCount:\n",
    "                #car will charge (ASSUMING 20% PER HOUR - CORRECT LATER)\n",
    "                randomCar[2] += 20\n",
    "                #car parks in charger spot\n",
    "                chargers = sorted(chargers, key=lambda x: not x[0])\n",
    "                chargers[chargersOccupied] = randomCar\n",
    "                chargersOccupied += 1\n",
    "            else:\n",
    "                #car parks in regular spot\n",
    "                parkingSpots[j] = randomCar\n",
    "                \n",
    "        chargersFilled.append(copy.deepcopy(chargers))\n",
    "        \n",
    "        weeklyChargeCount += chargersOccupied\n",
    "    return(weeklyChargeCount,chargersFilled)\n"
   ]
  },
  {
   "cell_type": "code",
   "execution_count": 81,
   "id": "ef7ed1f6",
   "metadata": {},
   "outputs": [],
   "source": [
    "def generateCar(demand,percentEV):\n",
    "    #generates a Car: array of length 3 [does the car exist?,is the car an EV?,SOC]\n",
    "    #to do: add additional car properties\n",
    "    #if the spot is empty (random number is above % chance that spot is filled)\n",
    "    car = [False,\"\",\"\"]\n",
    "    if random.randint(1, 100) > (demand*100):\n",
    "        return car\n",
    "    #if car is EV\n",
    "    elif random.randint(1, 100) < (percentEV*100):\n",
    "        car[0] = True\n",
    "        car[1] = True\n",
    "        car[2] = random.randint(20, 80)\n",
    "    else:\n",
    "        car[0] = True\n",
    "        car[1] = False\n",
    "    \n",
    "    return car\n",
    "\n",
    "# counttest = 100\n",
    "# test = []\n",
    "# while counttest > 0:\n",
    "#     test.append(generateCar(0.5,0.1))\n",
    "#     counttest -= 1\n",
    "# test"
   ]
  },
  {
   "cell_type": "code",
   "execution_count": 82,
   "id": "7379e864",
   "metadata": {},
   "outputs": [
    {
     "data": {
      "text/plain": [
       "262"
      ]
     },
     "execution_count": 82,
     "metadata": {},
     "output_type": "execute_result"
    }
   ],
   "source": [
    "chargingDemand(demandHourly,percentEV,3,parkingLotSize)[0]"
   ]
  },
  {
   "cell_type": "code",
   "execution_count": 198,
   "id": "4afa30d9",
   "metadata": {},
   "outputs": [
    {
     "data": {
      "text/plain": [
       "(1.78632, 1.08)"
      ]
     },
     "execution_count": 198,
     "metadata": {},
     "output_type": "execute_result"
    }
   ],
   "source": [
    "def powerToHour(markup,power,hydroPrice):\n",
    "    #Calculates the price per hour based on price per kWh\n",
    "    markupHour = markup*power #$/kWh * kW = $/h\n",
    "    priceHour= (hydroPrice+markup)*power\n",
    "    return(priceHour,markupHour)"
   ]
  },
  {
   "cell_type": "markdown",
   "id": "6d9c1eb4",
   "metadata": {},
   "source": [
    "#NOTE: Charger quote is from Chargepoint and is currently hardcoded into the function below (change this later):"
   ]
  },
  {
   "cell_type": "code",
   "execution_count": 248,
   "id": "6233cec9",
   "metadata": {},
   "outputs": [],
   "source": [
    "def profit(installCost,rebatePercent,weeks,demandHourly,percentEV,chargers,parkingLotSize,hydroPrice,marketPrice,markup,power):\n",
    "    #Takes inputs: float installCost in CAD, float rebatePercent, chargeCharge in CAD/hour (change this eventually to CAD/kWh and weeklyChargeCount to kwH/week)\n",
    "    #plus params for ChargingDemand\n",
    "    hourlyPrice = powerToHour(markup,power,hydroPrice)[0]\n",
    "    hourlyProfit = powerToHour(markup,power,hydroPrice)[1]\n",
    "    if marketPrice < hourlyPrice:\n",
    "        demandScale = marketPrice/hourlyPrice\n",
    "    else:\n",
    "        demandScale = 1\n",
    "    \n",
    "    revenue = 0\n",
    "    revenueWeekly = []\n",
    "    if power <= 7.2:\n",
    "        chargerCost = 11500\n",
    "    elif 7.2 < power <= 20:\n",
    "        chargerCost = 18000\n",
    "    else:\n",
    "        chargerCost = 100000\n",
    "    costsBeforeRebate = (installCost+chargerCost)*chargers\n",
    "    [rebateAmount,rebateMax] = rebate(float(power))\n",
    "    if costsBeforeRebate*(1-rebateAmount) > rebateMax:\n",
    "        costs = costsBeforeRebate-(rebateMax*rebatePercent)\n",
    "    else:\n",
    "        rebateAmount = 1-((1-rebateAmount)*rebatePercent)\n",
    "        costs = costsBeforeRebate * rebateAmount\n",
    "    #This needs to be adjusted for inflation later\n",
    "    #efficiency\n",
    "    demand = np.mean([chargingDemand(demandHourly,percentEV,chargers,parkingLotSize)[0] for i in range(5)])\n",
    "    while weeks > 0:\n",
    "        weekRevenue = demand* hourlyProfit * demandScale\n",
    "        revenue += weekRevenue\n",
    "        revenueWeekly.append(revenue)\n",
    "        weeks -= 1\n",
    "    return(revenue-costs,revenueWeekly,costs,costsBeforeRebate)\n",
    "    #Returns total profit/loss in CAD"
   ]
  },
  {
   "cell_type": "code",
   "execution_count": 85,
   "id": "9c6b632f",
   "metadata": {},
   "outputs": [],
   "source": [
    "def rebate(power):\n",
    "    #Based on charger power, returns maximum rebate percentage and maximum rebate in dollars\n",
    "    percentPaid = 1\n",
    "    rebateMax = 0\n",
    "    usedRebate = \"\"\n",
    "    for i in rebates[1:]:\n",
    "        if i[0] != usedRebate and (float(i[1]) >= float(power)) and (float(power) <= float(i[2])):\n",
    "            usedRebate = i[0]\n",
    "            percentPaid *= (1-float(i[3]))\n",
    "            rebateMax += float(i[4])\n",
    "    return(percentPaid,rebateMax)"
   ]
  },
  {
   "cell_type": "code",
   "execution_count": 214,
   "id": "af85ccb7",
   "metadata": {},
   "outputs": [],
   "source": [
    "def chargerSizing(installCost,rebatePercent,weeks,demandHourly,percentEV,parkingLotSize,hydroPrice,marketPrice,markup):\n",
    "    #This is an optimization function that finds the optimal number of chargers to maximize profit\n",
    "\n",
    "    def profitMin(vars):\n",
    "        x, y = vars\n",
    "        return(-profit(installCost,rebatePercent,weeks, demandHourly,percentEV,x,parkingLotSize,hydroPrice,marketPrice,markup, y)[0])\n",
    "    \n",
    "    # Define the ranges for each parameter\n",
    "    param_ranges = (slice(2, 16, 2), slice(7.2, 100, 6.4))  # Example ranges, adjust as needed\n",
    "\n",
    "    # Use brute force to minimize the profit function\n",
    "    result = brute(profitMin, param_ranges, full_output=True, finish=None)\n",
    "\n",
    "    chargers = result[0][0]\n",
    "    power = result[0][1]\n",
    "    netprofit = -result[1]\n",
    "    return(chargers, power)"
   ]
  },
  {
   "cell_type": "code",
   "execution_count": 252,
   "id": "c1313bcf",
   "metadata": {
    "scrolled": true
   },
   "outputs": [
    {
     "data": {
      "text/plain": [
       "(14.0, 13.600000000000001)"
      ]
     },
     "execution_count": 252,
     "metadata": {},
     "output_type": "execute_result"
    }
   ],
   "source": [
    "chargerSizing(installCost,rebatePercent,weeks,demandHourly,percentEV,parkingLotSize,hydroPrice,marketPrice,markup)"
   ]
  },
  {
   "cell_type": "code",
   "execution_count": 265,
   "id": "97cd6d1f",
   "metadata": {},
   "outputs": [
    {
     "name": "stdout",
     "output_type": "stream",
     "text": [
      "done\n",
      "done\n",
      "done\n",
      "done\n",
      "done\n",
      "done\n",
      "done\n",
      "done\n",
      "done\n"
     ]
    }
   ],
   "source": [
    "options = [[2,7.2],[2,20]\n",
    "          ,[4,7.2],[4,20]\n",
    "          ,[6,7.2],[6,20]\n",
    "          ,[8,7.2],[8,20],[14,20]]\n",
    "revenueWeekly = []\n",
    "for i in options:\n",
    "    revenueWeekly.append([profit(installCost,rebatePercent,weeks,demandHourly,percentEV,i[0],parkingLotSize,hydroPrice,marketPrice,markup,i[1])])\n",
    "    print(\"done\")"
   ]
  },
  {
   "cell_type": "code",
   "execution_count": 177,
   "id": "d06e0a63",
   "metadata": {
    "scrolled": false
   },
   "outputs": [
    {
     "name": "stdout",
     "output_type": "stream",
     "text": [
      "The data has been written to results_rebate_half.csv.\n"
     ]
    }
   ],
   "source": [
    "# Specify the file name\n",
    "file_name = \"results_rebate_half.csv\"\n",
    "\n",
    "# Open the file in write mode\n",
    "with open(file_name, mode='w', newline='') as file:\n",
    "    # Create a CSV writer object\n",
    "    writer = csv.writer(file)\n",
    "\n",
    "    # Write each row from the list to the CSV file\n",
    "    for row in revenueWeekly:\n",
    "        writer.writerow(row)\n",
    "\n",
    "print(f\"The data has been written to {file_name}.\")"
   ]
  },
  {
   "cell_type": "code",
   "execution_count": 266,
   "id": "5f8bc189",
   "metadata": {},
   "outputs": [
    {
     "name": "stdout",
     "output_type": "stream",
     "text": [
      "507172.6118500575\n"
     ]
    },
    {
     "data": {
      "image/png": "[encoded data removed]",
      "text/plain": [
       "<Figure size 500x1000 with 1 Axes>"
      ]
     },
     "metadata": {},
     "output_type": "display_data"
    }
   ],
   "source": [
    "run = -1\n",
    "print(revenueWeekly[run][0][0])\n",
    "# Create the bar graph with position-based labels\n",
    "plt.figure(figsize=(5, 10))\n",
    "plt.bar(range(1, len(revenueWeekly[run][0][1]) + 1), revenueWeekly[run][0][1])\n",
    "\n",
    "# Add a horizontal line at y=installCost\n",
    "plt.axhline(y=revenueWeekly[run][0][2], color='green', linestyle='--', label='Install Cost')\n",
    "plt.axhline(y=revenueWeekly[run][0][3], color='red', linestyle='--', label='Install Cost before rebate')\n",
    "\n",
    "# Set the title and labels for the axes\n",
    "plt.title('Revenue vs Cost')\n",
    "plt.xlabel('Week')\n",
    "plt.ylabel('Revenue')\n",
    "\n",
    "# Display the legend\n",
    "plt.legend()\n",
    "\n",
    "# Show the plot\n",
    "plt.show()"
   ]
  },
  {
   "cell_type": "code",
   "execution_count": null,
   "id": "9de2e8bf",
   "metadata": {},
   "outputs": [],
   "source": [
    "#num = number of chargers, char_type = charger type (1=[0],2=[1],3=[2]),power_cons = KW consumption of each charger, years \n",
    "import numpy as np\n",
    "type_still_bank = [150,200,300]\n",
    "type_wear_bank = [0.02,0.03,0.04]\n",
    "def sustain_func(num,char_type,power_cons,years=10):\n",
    "    if num != len(char_type):\n",
    "        print(\"sustain_func: num and type are not the same len\")\n",
    "    elif num != len(char_type):\n",
    "        print(\"sustain_func: num and power_cons are not the same len\")\n",
    "    else:\n",
    "        seasons = years * 4\n",
    "        type_still_act = np.zeros([len(type_still_bank),seasons])\n",
    "        type_wear_act = np.zeros([len(type_wear_bank),seasons])\n",
    "        adjust_factor = np.array([1,1.1,1.4,1.1])\n",
    "        for i in range(len(char_type)):\n",
    "            for j in range(seasons):\n",
    "                season_index = j%4\n",
    "                type_still_act[i,j] = type_still_bank[i]*adjust_factor[season_index]\n",
    "                type_wear_act[i,j] = type_wear_bank[i]*adjust_factor[season_index]\n",
    "                #if 0,4,8,12 its summer\n",
    "                #if 1,5,9,13 its fall\n",
    "                #if 2,6, 10,14 its winter\n",
    "                #if 3,7,11,15 its spring    \n",
    "        cost_total = sum(type_still_act)+sum(type_wear_act)\n",
    "    return(sum(cost_total))\n",
    "          \n",
    "print(sustain_func(3,[1,2,1],[100,200,150],years=10))   "
   ]
  },
  {
   "cell_type": "code",
   "execution_count": 263,
   "id": "4f7fc6a0",
   "metadata": {},
   "outputs": [],
   "source": [
    "def EVDemandIncrease(markup,chargers):\n",
    "    #returns the % increase in EV sales given electricity price markup and number of chargers installed\n",
    "    coeffs = {\n",
    "        1:[0.1997,-0.032]\n",
    "        ,2:[0.1997,-0.032]\n",
    "        ,3:[0.1997,-0.032]\n",
    "        ,4:[0.2193,-0.031]\n",
    "        ,5:[0.2193,-0.031]\n",
    "        ,6:[0.2193,-0.031]\n",
    "        ,7:[0.227,-0.028]\n",
    "        ,8:[0.227,-0.028]\n",
    "        ,9:[0.227,-0.028]\n",
    "        ,10:[0.2325,-0.027]\n",
    "        ,11:[0.2325,-0.027]\n",
    "        ,12:[0.236,-0.026]\n",
    "        ,13:[0.236,-0.026]\n",
    "        ,14:[0.2405,-0.025]\n",
    "        ,15:[0.2405,-0.025]\n",
    "        ,16:[0.2405,-0.025]\n",
    "    }\n",
    "    if coeffs[chargers][0]*math.exp(coeffs[chargers][1]*markup) < 0.16:\n",
    "        increase = 0.1\n",
    "    else:\n",
    "        increase = coeffs[chargers][0]*math.exp(coeffs[chargers][1]*markup) - 0.16\n",
    "    return(increase)"
   ]
  },
  {
   "cell_type": "code",
   "execution_count": 264,
   "id": "fcdad48b",
   "metadata": {},
   "outputs": [
    {
     "data": {
      "text/plain": [
       "0.07959981390383561"
      ]
     },
     "execution_count": 264,
     "metadata": {},
     "output_type": "execute_result"
    }
   ],
   "source": [
    "EVDemandIncrease(markup,14)"
   ]
  },
  {
   "cell_type": "code",
   "execution_count": null,
   "id": "50a47e2e",
   "metadata": {},
   "outputs": [],
   "source": []
  }
 ],
 "metadata": {
  "kernelspec": {
   "display_name": "Python 3 (ipykernel)",
   "language": "python",
   "name": "python3"
  },
  "language_info": {
   "codemirror_mode": {
    "name": "ipython",
    "version": 3
   },
   "file_extension": ".py",
   "mimetype": "text/x-python",
   "name": "python",
   "nbconvert_exporter": "python",
   "pygments_lexer": "ipython3",
   "version": "3.11.5"
  }
 },
 "nbformat": 4,
 "nbformat_minor": 5
}
