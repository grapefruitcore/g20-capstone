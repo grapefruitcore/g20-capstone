{
 "cells": [
  {
   "cell_type": "code",
   "execution_count": 2,
   "id": "0deb1a49",
   "metadata": {},
   "outputs": [],
   "source": [
    "import numpy as np\n",
    "from scipy.optimize import minimize\n",
    "import csv\n",
    "import random\n",
    "import matplotlib.pyplot as plt\n",
    "import copy\n",
    "import math"
   ]
  },
  {
   "cell_type": "code",
   "execution_count": 3,
   "id": "d0bdc2cf",
   "metadata": {},
   "outputs": [],
   "source": [
    "parkingLotSize = 173\n",
    "# chargingProbability = 0.25 #REMOVE\n",
    "installCost = 5000\n",
    "rebatePercent = 0.7\n",
    "hydroPrice = 1.25 #Dollars per kWhour - FILLER NOT REAL VALUE\n",
    "markup = 0.25 #Dollars per kWhour\n",
    "weeks = 522 #10 years\n",
    "batteryEnergy = 57 #kWh, small SUV, BEV200, 2015\n",
    "batteryPower = 157 #kW, small SUV, BEV200, 2015"
   ]
  },
  {
   "cell_type": "code",
   "execution_count": 4,
   "id": "46c71a9f",
   "metadata": {},
   "outputs": [],
   "source": [
    "# Open the CSV file\n",
    "csv_file = open('time_demand.csv', 'r')\n",
    "csv_file2 = open('vehicle_registration_2022.csv', 'r')\n",
    "\n",
    "# Create a csv.reader object\n",
    "csv_reader = csv.reader(csv_file)\n",
    "csv_reader2 = csv.reader(csv_file2)\n",
    "\n",
    "# Initialize an empty array to store the CSV data\n",
    "data_array = []\n",
    "data_array2 = []\n",
    "\n",
    "# Read and store data row by row\n",
    "for row in csv_reader:\n",
    "    data_array.append(row)\n",
    "for row in csv_reader2:\n",
    "    data_array2.append(row)\n",
    "\n",
    "# Close the CSV file\n",
    "csv_file.close()\n",
    "csv_file2.close()\n",
    "\n",
    "demandHourly = [item for sublist in [row[1:] for row in data_array[1:-1]] for item in sublist]\n",
    "vehicleRegistration2022 = data_array2"
   ]
  },
  {
   "cell_type": "code",
   "execution_count": 5,
   "id": "1ea5e7c7",
   "metadata": {},
   "outputs": [
    {
     "data": {
      "text/plain": [
       "0.03045657988467897"
      ]
     },
     "execution_count": 5,
     "metadata": {},
     "output_type": "execute_result"
    }
   ],
   "source": [
    "#Need a script that calculates percent of vehicles in area that are EVs based on vehicle registration data\n",
    "#Defines variable percentEV\n",
    "\n",
    "# Specify the column index you want to analyze\n",
    "column_index = 3  # 3 corresponds to EV included\n",
    "target_text = \"Yes\"\n",
    "count_matches = 0\n",
    "\n",
    "# Iterate through the rows and check for matches\n",
    "for row in vehicleRegistration2022[1:]:  # Skip the header row\n",
    "    if row[column_index] == target_text:\n",
    "        count_matches += 1\n",
    "\n",
    "# Calculate the percentage\n",
    "total_rows = len(vehicleRegistration2022) - 1  # Subtract 1 to exclude the header row\n",
    "percentEV = count_matches / total_rows\n",
    "percentEV"
   ]
  },
  {
   "cell_type": "code",
   "execution_count": 6,
   "id": "7cd403ce",
   "metadata": {},
   "outputs": [],
   "source": [
    "def chargingDemand(demandHourly,percentEV,chargerCount,parkingLotSize):\n",
    "    #Takes inputs: array demandHourly which is 13 (hours per day) by 7 (days per week), float percentEV, float chargingProbability\n",
    "    #Returns total number of charging instances per week weeklyChargeCount\n",
    "    \n",
    "    weeklyChargeCount = 0\n",
    "    randomCarArray = []\n",
    "    chargers = [[False,\"\",\"\"]]*(chargerCount)\n",
    "    chargersFilled = [chargers]\n",
    "    falses = []\n",
    "    chargersOccupied = 0\n",
    "    for i in demandHourly:\n",
    "        \n",
    "        parkingSpots = [False,\"\",\"\"]*(173 - chargerCount)\n",
    "        chargers = sorted(chargers, key=lambda x: not x[0])\n",
    "        \n",
    "        #Cars leaving/staying at chargers:\n",
    "        for k, car in enumerate(chargers):\n",
    "            if car[0] and car[2] >= 100:\n",
    "                chargers[k] = [False,\"\",\"\"]\n",
    "                chargersOccupied -= 1\n",
    "            #ASSUMING CAR CHARGES TO 100%\n",
    "            elif car[0] and car[2] < 100:\n",
    "                #car will charge (ASSUMING 20% PER HOUR - CORRECT LATER)\n",
    "                chargers[k][2] += 20\n",
    "                \n",
    "        #Sort chargers so filled comes first\n",
    "        chargers = sorted(chargers, key=lambda x: not x[0])\n",
    "                \n",
    "        for j, car in enumerate(parkingSpots):\n",
    "            randomCar = generateCar(float(i),percentEV)\n",
    "            randomCarArray.append(randomCar)\n",
    "            #if random car is EV that wants to charge:\n",
    "            if randomCar[1] and randomCar[2] < 40 and chargersOccupied < chargerCount:\n",
    "                #car will charge (ASSUMING 20% PER HOUR - CORRECT LATER)\n",
    "                randomCar[2] += 20\n",
    "                #car parks in charger spot\n",
    "                chargers = sorted(chargers, key=lambda x: not x[0])\n",
    "                chargers[chargersOccupied] = randomCar\n",
    "                chargersOccupied += 1\n",
    "            else:\n",
    "                #car parks in regular spot\n",
    "                parkingSpots[j] = randomCar\n",
    "                \n",
    "        chargersFilled.append(copy.deepcopy(chargers))\n",
    "        \n",
    "        weeklyChargeCount += chargersOccupied\n",
    "            \n",
    "    return(weeklyChargeCount,chargersFilled)\n"
   ]
  },
  {
   "cell_type": "code",
   "execution_count": 7,
   "id": "ef7ed1f6",
   "metadata": {},
   "outputs": [],
   "source": [
    "def generateCar(demand,percentEV):\n",
    "    #generates a Car: array of length 3 [does the car exist?,is the car an EV?,SOC]\n",
    "    #to do: add additional car properties\n",
    "    #if the spot is empty (random number is above % chance that spot is filled)\n",
    "    car = [False,\"\",\"\"]\n",
    "    if random.randint(1, 100) > (demand*100):\n",
    "        return car\n",
    "    #if car is EV\n",
    "    elif random.randint(1, 100) < (percentEV*100):\n",
    "        car[0] = True\n",
    "        car[1] = True\n",
    "        car[2] = random.randint(20, 80)\n",
    "    else:\n",
    "        car[0] = True\n",
    "        car[1] = False\n",
    "    \n",
    "    return car\n",
    "\n",
    "# counttest = 100\n",
    "# test = []\n",
    "# while counttest > 0:\n",
    "#     test.append(generateCar(0.5,0.1))\n",
    "#     counttest -= 1\n",
    "# test"
   ]
  },
  {
   "cell_type": "code",
   "execution_count": 8,
   "id": "7379e864",
   "metadata": {},
   "outputs": [
    {
     "data": {
      "text/plain": [
       "(260,\n",
       " [[[False, '', ''], [False, '', ''], [False, '', '']],\n",
       "  [[True, True, 40], [True, True, 56], [True, True, 42]],\n",
       "  [[True, True, 60], [True, True, 76], [True, True, 62]],\n",
       "  [[True, True, 80], [True, True, 96], [True, True, 82]],\n",
       "  [[True, True, 100], [True, True, 116], [True, True, 102]],\n",
       "  [[False, '', ''], [False, '', ''], [False, '', '']],\n",
       "  [[False, '', ''], [False, '', ''], [False, '', '']],\n",
       "  [[True, True, 41], [True, True, 51], [False, '', '']],\n",
       "  [[True, True, 61], [True, True, 71], [True, True, 54]],\n",
       "  [[True, True, 81], [True, True, 91], [True, True, 74]],\n",
       "  [[True, True, 101], [True, True, 111], [True, True, 94]],\n",
       "  [[True, True, 114], [True, True, 53], [True, True, 53]],\n",
       "  [[True, True, 73], [True, True, 73], [False, '', '']],\n",
       "  [[True, True, 93], [True, True, 93], [True, True, 48]],\n",
       "  [[True, True, 113], [True, True, 113], [True, True, 68]],\n",
       "  [[True, True, 88], [True, True, 53], [True, True, 46]],\n",
       "  [[True, True, 108], [True, True, 73], [True, True, 66]],\n",
       "  [[True, True, 93], [True, True, 86], [True, True, 58]],\n",
       "  [[True, True, 113], [True, True, 106], [True, True, 78]],\n",
       "  [[True, True, 98], [False, '', ''], [False, '', '']],\n",
       "  [[True, True, 118], [True, True, 48], [True, True, 49]],\n",
       "  [[True, True, 68], [True, True, 69], [True, True, 40]],\n",
       "  [[True, True, 88], [True, True, 89], [True, True, 60]],\n",
       "  [[True, True, 108], [True, True, 109], [True, True, 80]],\n",
       "  [[True, True, 100], [True, True, 51], [True, True, 46]],\n",
       "  [[True, True, 71], [True, True, 66], [True, True, 50]],\n",
       "  [[True, True, 91], [True, True, 86], [True, True, 70]],\n",
       "  [[True, True, 111], [True, True, 106], [True, True, 90]],\n",
       "  [[True, True, 110], [True, True, 58], [True, True, 48]],\n",
       "  [[True, True, 78], [True, True, 68], [True, True, 41]],\n",
       "  [[True, True, 98], [True, True, 88], [True, True, 61]],\n",
       "  [[True, True, 118], [True, True, 108], [True, True, 81]],\n",
       "  [[True, True, 101], [True, True, 47], [True, True, 46]],\n",
       "  [[True, True, 67], [True, True, 66], [True, True, 44]],\n",
       "  [[True, True, 87], [True, True, 86], [True, True, 64]],\n",
       "  [[True, True, 107], [True, True, 106], [True, True, 84]],\n",
       "  [[True, True, 104], [True, True, 50], [True, True, 49]],\n",
       "  [[True, True, 70], [True, True, 69], [True, True, 47]],\n",
       "  [[True, True, 90], [True, True, 89], [True, True, 67]],\n",
       "  [[True, True, 110], [True, True, 109], [True, True, 87]],\n",
       "  [[True, True, 107], [True, True, 49], [True, True, 53]],\n",
       "  [[True, True, 69], [True, True, 73], [True, True, 51]],\n",
       "  [[True, True, 89], [True, True, 93], [True, True, 71]],\n",
       "  [[True, True, 109], [True, True, 113], [True, True, 91]],\n",
       "  [[True, True, 111], [True, True, 54], [True, True, 56]],\n",
       "  [[True, True, 74], [True, True, 76], [True, True, 50]],\n",
       "  [[True, True, 94], [True, True, 96], [True, True, 70]],\n",
       "  [[True, True, 114], [True, True, 116], [True, True, 90]],\n",
       "  [[True, True, 110], [True, True, 56], [True, True, 51]],\n",
       "  [[True, True, 76], [True, True, 71], [True, True, 49]],\n",
       "  [[True, True, 96], [True, True, 91], [True, True, 69]],\n",
       "  [[True, True, 116], [True, True, 111], [True, True, 89]],\n",
       "  [[True, True, 109], [True, True, 56], [True, True, 50]],\n",
       "  [[True, True, 76], [True, True, 70], [True, True, 44]],\n",
       "  [[True, True, 96], [True, True, 90], [True, True, 64]],\n",
       "  [[True, True, 116], [True, True, 110], [True, True, 84]],\n",
       "  [[True, True, 104], [True, True, 40], [True, True, 54]],\n",
       "  [[True, True, 60], [True, True, 74], [True, True, 46]],\n",
       "  [[True, True, 80], [True, True, 94], [True, True, 66]],\n",
       "  [[True, True, 100], [True, True, 114], [True, True, 86]],\n",
       "  [[True, True, 106], [True, True, 55], [True, True, 57]],\n",
       "  [[True, True, 75], [True, True, 77], [True, True, 41]],\n",
       "  [[True, True, 95], [True, True, 97], [True, True, 61]],\n",
       "  [[True, True, 115], [True, True, 117], [True, True, 81]],\n",
       "  [[True, True, 101], [True, True, 54], [False, '', '']],\n",
       "  [[True, True, 74], [True, True, 47], [True, True, 40]],\n",
       "  [[True, True, 94], [True, True, 67], [True, True, 60]],\n",
       "  [[True, True, 114], [True, True, 87], [True, True, 80]],\n",
       "  [[True, True, 107], [True, True, 100], [True, True, 40]],\n",
       "  [[True, True, 60], [True, True, 53], [True, True, 43]],\n",
       "  [[True, True, 80], [True, True, 73], [True, True, 63]],\n",
       "  [[True, True, 100], [True, True, 93], [True, True, 83]],\n",
       "  [[True, True, 113], [True, True, 103], [True, True, 49]],\n",
       "  [[True, True, 69], [True, True, 56], [True, True, 54]],\n",
       "  [[True, True, 89], [True, True, 76], [True, True, 74]],\n",
       "  [[True, True, 109], [True, True, 96], [True, True, 94]],\n",
       "  [[True, True, 116], [True, True, 114], [True, True, 56]],\n",
       "  [[True, True, 76], [True, True, 43], [True, True, 50]],\n",
       "  [[True, True, 96], [True, True, 63], [True, True, 70]],\n",
       "  [[True, True, 116], [True, True, 83], [True, True, 90]],\n",
       "  [[True, True, 103], [True, True, 110], [True, True, 54]],\n",
       "  [[True, True, 74], [True, True, 49], [True, True, 59]],\n",
       "  [[True, True, 94], [True, True, 69], [True, True, 79]],\n",
       "  [[True, True, 114], [True, True, 89], [True, True, 99]],\n",
       "  [[True, True, 109], [True, True, 119], [False, '', '']],\n",
       "  [[True, True, 47], [True, True, 41], [True, True, 40]],\n",
       "  [[True, True, 67], [True, True, 61], [True, True, 60]],\n",
       "  [[True, True, 87], [True, True, 81], [True, True, 80]],\n",
       "  [[True, True, 107], [True, True, 101], [True, True, 100]],\n",
       "  [[True, True, 45], [True, True, 49], [False, '', '']],\n",
       "  [[True, True, 65], [True, True, 69], [True, True, 51]],\n",
       "  [[True, True, 85], [True, True, 89], [True, True, 71]]])"
      ]
     },
     "execution_count": 8,
     "metadata": {},
     "output_type": "execute_result"
    }
   ],
   "source": [
    "chargingDemand(demandHourly,percentEV,3,parkingLotSize)"
   ]
  },
  {
   "cell_type": "code",
   "execution_count": null,
   "id": "4afa30d9",
   "metadata": {},
   "outputs": [],
   "source": [
    "def powerToHour(hydroPrice,markup,batteryPower):\n",
    "    #Calculates the price per hour based on price per kWh\n",
    "    priceEnergy = hydroPrice + markup #$/kWh\n",
    "    priceHour = priceEnergy*batteryPower #$/kWh * kW = $/h\n",
    "    return(priceHour)\n",
    "hourlyPrice = powerToHour(hydroPrice,markup,batteryPower)"
   ]
  },
  {
   "cell_type": "code",
   "execution_count": 156,
   "id": "6233cec9",
   "metadata": {},
   "outputs": [],
   "source": [
    "def profit(installCost,rebatePercent,weeks,demandHourly,percentEV,chargers,parkingLotSize,hourlyPrice):\n",
    "    #Takes inputs: float installCost in CAD, float rebatePercent, chargeCharge in CAD/hour (change this eventually to CAD/kWh and weeklyChargeCount to kwH/week)\n",
    "    #plus params for ChargingDemand\n",
    "    revenue = 0\n",
    "    revenueWeekly = []\n",
    "    costs = installCost*(1-rebatePercent)*chargers\n",
    "    #This needs to be adjusted for inflation later\n",
    "    while weeks > 0:\n",
    "        weekRevenue = chargingDemand(demandHourly,percentEV,chargers,parkingLotSize)[0] * hourlyPrice\n",
    "        revenue += weekRevenue\n",
    "        revenueWeekly.append(revenue)\n",
    "        weeks -= 1\n",
    "    return(revenue-costs,revenueWeekly)\n",
    "    #Returns total profit/loss in CAD"
   ]
  },
  {
   "cell_type": "code",
   "execution_count": null,
   "id": "4f7fc6a0",
   "metadata": {},
   "outputs": [],
   "source": [
    "def EVDemandIncrease(markup,chargers):\n",
    "    coeffs = {\n",
    "        1:[0.1997,-0.032]\n",
    "        ,2:[0.1997,-0.032]\n",
    "        ,3:[0.1997,-0.032]\n",
    "        ,4:[0.2193,-0.031]\n",
    "        ,5:[0.2193,-0.031]\n",
    "        ,6:[0.2193,-0.031]\n",
    "        ,7:[0.227,-0.028]\n",
    "        ,8:[0.227,-0.028]\n",
    "        ,9:[0.227,-0.028]\n",
    "        ,10:[0.2325,-0.027]\n",
    "        ,11:[0.2325,-0.027]\n",
    "        ,12:[0.236,-0.026]\n",
    "        ,13:[0.236,-0.026]\n",
    "        ,14:[0.2405,-0.025]\n",
    "        ,15:[0.2405,-0.025]\n",
    "        ,16:[0.2405,-0.025]\n",
    "    }\n",
    "    return(coeffs[chargers][0]*math.exp(coeffs[chargers][1]*markup))\n",
    "    "
   ]
  },
  {
   "cell_type": "code",
   "execution_count": null,
   "id": "1a019877",
   "metadata": {},
   "outputs": [],
   "source": [
    "#Lifecycle analysis later"
   ]
  },
  {
   "cell_type": "code",
   "execution_count": null,
   "id": "d9f071f7",
   "metadata": {},
   "outputs": [],
   "source": [
    "#Battery modelling later (this might go in the script up top actually)"
   ]
  },
  {
   "cell_type": "code",
   "execution_count": 141,
   "id": "af85ccb7",
   "metadata": {},
   "outputs": [],
   "source": [
    "def chargerSizing(installCost,rebatePercent,chargeCharge,weeks,demandHourly,percentEV,chargingProbability):\n",
    "    #This is an optimization function that finds the optimal number of chargers to maximize profit\n",
    "    defaultChargers = 1\n",
    "    \n",
    "    bnds = [(1,91)]\n",
    "    result = minimize(lambda x: -profit(installCost,rebatePercent,chargeCharge, weeks, demandHourly,percentEV,chargingProbability,x,parkingLotSize)[0], defaultChargers, bounds=bnds)\n",
    "    chargers = result.x[0]\n",
    "    netprofit = -result.fun\n",
    "    return(chargers)"
   ]
  },
  {
   "cell_type": "code",
   "execution_count": 144,
   "id": "c1313bcf",
   "metadata": {},
   "outputs": [
    {
     "data": {
      "text/plain": [
       "1.0000035120035085"
      ]
     },
     "execution_count": 144,
     "metadata": {},
     "output_type": "execute_result"
    }
   ],
   "source": [
    "chargerSizing(installCost,rebatePercent,chargeCharge,weeks,demandHourly,percentEV,chargingProbability)"
   ]
  },
  {
   "cell_type": "code",
   "execution_count": 157,
   "id": "97cd6d1f",
   "metadata": {},
   "outputs": [],
   "source": [
    "revenueWeekly = profit(installCost,rebatePercent,chargeCharge, weeks, demandHourly,percentEV,chargingProbability,1,parkingLotSize)"
   ]
  },
  {
   "cell_type": "code",
   "execution_count": 160,
   "id": "5f8bc189",
   "metadata": {},
   "outputs": [
    {
     "data": {
      "image/png": "[encoded data removed]",
      "text/plain": [
       "<Figure size 640x480 with 1 Axes>"
      ]
     },
     "metadata": {},
     "output_type": "display_data"
    }
   ],
   "source": [
    "# Create the bar graph with position-based labels\n",
    "plt.bar(range(1, len(revenueWeekly[1]) + 1), revenueWeekly[1])\n",
    "\n",
    "# Add a horizontal line at y=installCost\n",
    "plt.axhline(y=installCost, color='red', linestyle='--', label='Install Cost')\n",
    "\n",
    "# Set the title and labels for the axes\n",
    "plt.title('Revenue vs Cost')\n",
    "plt.xlabel('Week')\n",
    "plt.ylabel('Revenue')\n",
    "\n",
    "# Display the legend\n",
    "plt.legend()\n",
    "\n",
    "# Show the plot\n",
    "plt.show()"
   ]
  },
  {
   "cell_type": "code",
   "execution_count": null,
   "id": "9de2e8bf",
   "metadata": {},
   "outputs": [],
   "source": []
  }
 ],
 "metadata": {
  "kernelspec": {
   "display_name": "Python 3 (ipykernel)",
   "language": "python",
   "name": "python3"
  },
  "language_info": {
   "codemirror_mode": {
    "name": "ipython",
    "version": 3
   },
   "file_extension": ".py",
   "mimetype": "text/x-python",
   "name": "python",
   "nbconvert_exporter": "python",
   "pygments_lexer": "ipython3",
   "version": "3.11.5"
  }
 },
 "nbformat": 4,
 "nbformat_minor": 5
}
