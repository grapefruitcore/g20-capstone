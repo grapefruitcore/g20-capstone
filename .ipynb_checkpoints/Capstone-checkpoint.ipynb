{
 "cells": [
  {
   "cell_type": "code",
   "execution_count": 7,
   "id": "0deb1a49",
   "metadata": {},
   "outputs": [],
   "source": [
    "import numpy as np\n",
    "from scipy.optimize import minimize\n",
    "import csv\n",
    "import random\n"
   ]
  },
  {
   "cell_type": "code",
   "execution_count": 131,
   "id": "791df524",
   "metadata": {},
   "outputs": [],
   "source": [
    "parkingLotSize = 173\n",
    "chargingProbability = 0.25\n",
    "installCost = 5000\n",
    "rebatePercent = 0.7\n",
    "chargeCharge = 1.5\n",
    "weeks = 522 #10 years"
   ]
  },
  {
   "cell_type": "code",
   "execution_count": 41,
   "id": "a061c16d",
   "metadata": {},
   "outputs": [],
   "source": [
    "# Open the CSV file\n",
    "csv_file = open('time_demand.csv', 'r')\n",
    "csv_file2 = open('vehicle_registration_2022.csv', 'r')\n",
    "\n",
    "# Create a csv.reader object\n",
    "csv_reader = csv.reader(csv_file)\n",
    "csv_reader2 = csv.reader(csv_file2)\n",
    "\n",
    "# Initialize an empty array to store the CSV data\n",
    "data_array = []\n",
    "data_array2 = []\n",
    "\n",
    "# Read and store data row by row\n",
    "for row in csv_reader:\n",
    "    data_array.append(row)\n",
    "for row in csv_reader2:\n",
    "    data_array2.append(row)\n",
    "\n",
    "# Close the CSV file\n",
    "csv_file.close()\n",
    "csv_file2.close()\n",
    "\n",
    "demandHourly = [item for sublist in [row[1:] for row in data_array[1:-1]] for item in sublist]\n",
    "vehicleRegistration2022 = data_array2"
   ]
  },
  {
   "cell_type": "code",
   "execution_count": 5,
   "id": "1ea5e7c7",
   "metadata": {},
   "outputs": [
    {
     "data": {
      "text/plain": [
       "0.03045657988467897"
      ]
     },
     "execution_count": 5,
     "metadata": {},
     "output_type": "execute_result"
    }
   ],
   "source": [
    "#Need a script that calculates percent of vehicles in area that are EVs based on vehicle registration data\n",
    "#Defines variable percentEV\n",
    "\n",
    "# Specify the column index you want to analyze\n",
    "column_index = 3  # 3 corresponds to EV included\n",
    "target_text = \"Yes\"\n",
    "count_matches = 0\n",
    "\n",
    "# Iterate through the rows and check for matches\n",
    "for row in vehicleRegistration2022[1:]:  # Skip the header row\n",
    "    if row[column_index] == target_text:\n",
    "        count_matches += 1\n",
    "\n",
    "# Calculate the percentage\n",
    "total_rows = len(vehicleRegistration2022) - 1  # Subtract 1 to exclude the header row\n",
    "percentEV = count_matches / total_rows\n",
    "percentEV"
   ]
  },
  {
   "cell_type": "code",
   "execution_count": 81,
   "id": "7cd403ce",
   "metadata": {},
   "outputs": [],
   "source": [
    "def chargingDemand(demandHourly,percentEV,chargingProbability,chargers,parkingLotSize):\n",
    "    #Takes inputs: array demandHourly which is 13 (hours per day) by 7 (days per week), float percentEV, float chargingProbability\n",
    "    #Returns total number of charging instances per week weeklyChargeCount\n",
    "    weeklyChargeCount = 0\n",
    "\n",
    "    for i in demandHourly:\n",
    "        chargersOpen = chargers\n",
    "        spotsCount = parkingLotSize\n",
    "        while spotsCount > 0:\n",
    "            EVprobability = float(i)*percentEV*chargingProbability*1000\n",
    "            random_number = random.randint(1, 1000)\n",
    "            if random_number < EVprobability and chargersOpen > 0:\n",
    "                weeklyChargeCount += 1\n",
    "                chargersOpen -= 1\n",
    "            spotsCount -= 1\n",
    "            \n",
    "    return(weeklyChargeCount)"
   ]
  },
  {
   "cell_type": "code",
   "execution_count": 84,
   "id": "1ea0b8f2",
   "metadata": {},
   "outputs": [
    {
     "name": "stdout",
     "output_type": "stream",
     "text": [
      "39\n"
     ]
    }
   ],
   "source": [
    "chargeHours = chargingDemand(demandHourly,percentEV,chargingProbability,1,parkingLotSize)\n",
    "print(chargeHours)"
   ]
  },
  {
   "cell_type": "code",
   "execution_count": 114,
   "id": "6233cec9",
   "metadata": {},
   "outputs": [],
   "source": [
    "def profit(installCost,rebatePercent,chargeCharge, weeks, demandHourly,percentEV,chargingProbability,chargers,parkingLotSize):\n",
    "    #Takes inputs: float installCost in CAD, float rebatePercent, chargeCharge in CAD/hour (change this eventually to CAD/kWh and weeklyChargeCount to kwH/week)\n",
    "    #plus params for ChargingDemand\n",
    "    weeklyChargeCount = chargingDemand(demandHourly,percentEV,chargingProbability,chargers,parkingLotSize)\n",
    "    costs = installCost*(1-rebatePercent)*chargers\n",
    "    #This needs to be adjusted for inflation later\n",
    "    revenue = weeklyChargeCount*chargeCharge*weeks\n",
    "    return(revenue-costs)\n",
    "    #Returns total profit/loss in CAD"
   ]
  },
  {
   "cell_type": "code",
   "execution_count": null,
   "id": "1a019877",
   "metadata": {},
   "outputs": [],
   "source": [
    "#Lifecycle analysis later"
   ]
  },
  {
   "cell_type": "code",
   "execution_count": null,
   "id": "d9f071f7",
   "metadata": {},
   "outputs": [],
   "source": [
    "#Battery modelling later (this might go in the script up top actually)"
   ]
  },
  {
   "cell_type": "code",
   "execution_count": 129,
   "id": "af85ccb7",
   "metadata": {},
   "outputs": [],
   "source": [
    "def chargerSizing(installCost,rebatePercent,chargeCharge,weeks,demandHourly,percentEV,chargingProbability):\n",
    "    #This is an optimization function that finds the optimal number of chargers to maximize profit\n",
    "    defaultChargers = 1\n",
    "    bnds = [(1,91)]\n",
    "    result = minimize(lambda x: -profit(installCost,rebatePercent,chargeCharge, weeks, demandHourly,percentEV,chargingProbability,x,parkingLotSize), defaultChargers, bounds=bnds)\n",
    "    chargers = result.x[0]\n",
    "    netprofit = -result.fun\n",
    "    print(\"The optimal number of chargers is\")\n",
    "    print(chargers)\n",
    "    print(\"The profit will be\")\n",
    "    print(netprofit)\n",
    "    return(chargers)"
   ]
  },
  {
   "cell_type": "code",
   "execution_count": 132,
   "id": "3f4d65cb",
   "metadata": {},
   "outputs": [
    {
     "name": "stdout",
     "output_type": "stream",
     "text": [
      "The optimal number of chargers is\n",
      "1.0000075158478308\n",
      "The profit will be\n",
      "3065.988726228254\n"
     ]
    },
    {
     "data": {
      "text/plain": [
       "1.0000075158478308"
      ]
     },
     "execution_count": 132,
     "metadata": {},
     "output_type": "execute_result"
    }
   ],
   "source": [
    "chargerSizing(installCost,rebatePercent,chargeCharge,weeks,demandHourly,percentEV,chargingProbability)"
   ]
  },
  {
   "cell_type": "code",
   "execution_count": null,
   "id": "392dac1f",
   "metadata": {},
   "outputs": [],
   "source": []
  }
 ],
 "metadata": {
  "kernelspec": {
   "display_name": "Python 3 (ipykernel)",
   "language": "python",
   "name": "python3"
  },
  "language_info": {
   "codemirror_mode": {
    "name": "ipython",
    "version": 3
   },
   "file_extension": ".py",
   "mimetype": "text/x-python",
   "name": "python",
   "nbconvert_exporter": "python",
   "pygments_lexer": "ipython3",
   "version": "3.11.5"
  }
 },
 "nbformat": 4,
 "nbformat_minor": 5
}
