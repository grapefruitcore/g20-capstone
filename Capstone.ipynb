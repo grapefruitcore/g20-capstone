{
 "cells": [
  {
   "cell_type": "code",
   "execution_count": null,
   "id": "0deb1a49",
   "metadata": {},
   "outputs": [],
   "source": [
    "import numpy as np\n",
    "from scipy.optimize import minimize"
   ]
  },
  {
   "cell_type": "code",
   "execution_count": null,
   "id": "1ea5e7c7",
   "metadata": {},
   "outputs": [],
   "source": [
    "#Need a script that calculates percent of vehicles in area that are EVs based on vehicle registration data\n",
    "#Defines variable percentEV"
   ]
  },
  {
   "cell_type": "code",
   "execution_count": null,
   "id": "7cd403ce",
   "metadata": {},
   "outputs": [],
   "source": [
    "def chargingDemand(demandHourly,percentEV,chargingProbability,chargers):\n",
    "    #Takes inputs: array demandHourly which is 13 (hours per day) by 7 (days per week), float percentEV, float chargingProbability\n",
    "    #Returns total number of charging instances per week weeklyChargeCount"
   ]
  },
  {
   "cell_type": "code",
   "execution_count": null,
   "id": "6233cec9",
   "metadata": {},
   "outputs": [],
   "source": [
    "def profit(installCost,rebatePercent,chargeCharge, weeks, demandHourly,percentEV,chargingProbability,chargers):\n",
    "    #Takes inputs: float installCost in CAD, float rebatePercent, chargeCharge in CAD/hour (change this eventually to CAD/kWh and weeklyChargeCount to kwH/week)\n",
    "    #plus params for ChargingDemand\n",
    "    weeklyChargeCount = chargingDemand(demandHourly,percentEV,chargingProbability,chargers)\n",
    "    costs = installCost*rebatePercent\n",
    "    #This needs to be adjusted for inflation later\n",
    "    revenue = weeklyChargeCount*chargeCharge*weeks\n",
    "    return(revenue-costs)\n",
    "    #Returns total profit/loss in CAD"
   ]
  },
  {
   "cell_type": "code",
   "execution_count": null,
   "id": "1a019877",
   "metadata": {},
   "outputs": [],
   "source": [
    "#Lifecycle analysis later"
   ]
  },
  {
   "cell_type": "code",
   "execution_count": null,
   "id": "d9f071f7",
   "metadata": {},
   "outputs": [],
   "source": [
    "#Battery modelling later (this might go in the script up top actually)"
   ]
  },
  {
   "cell_type": "code",
   "execution_count": null,
   "id": "af85ccb7",
   "metadata": {},
   "outputs": [],
   "source": [
    "def chargerSizing(demandHourly,percentEV,chargingProbability):\n",
    "    #This is an optimization function that finds the optimal number of chargers to maximize profit\n",
    "    defaultChargers = 1\n",
    "    result = minimize(lambda x: -profit(demandHourly,percentEV,chargingProbability,x), defaultChargers, method='BFGS')\n",
    "    chargers = result.x[0]\n",
    "    profit = -result.fun\n",
    "    print(\"The optimal number of chargers is\")\n",
    "    print(chargers)\n",
    "    print(\"The profit will be\")\n",
    "    print(profit)\n",
    "    return(chargers)"
   ]
  }
 ],
 "metadata": {
  "kernelspec": {
   "display_name": "Python 3 (ipykernel)",
   "language": "python",
   "name": "python3"
  },
  "language_info": {
   "codemirror_mode": {
    "name": "ipython",
    "version": 3
   },
   "file_extension": ".py",
   "mimetype": "text/x-python",
   "name": "python",
   "nbconvert_exporter": "python",
   "pygments_lexer": "ipython3",
   "version": "3.11.5"
  }
 },
 "nbformat": 4,
 "nbformat_minor": 5
}
